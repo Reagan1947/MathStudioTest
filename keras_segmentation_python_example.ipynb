{
  "nbformat": 4,
  "nbformat_minor": 0,
  "metadata": {
    "colab": {
      "name": "keras_segmentation_python_example.ipynb",
      "provenance": [],
      "collapsed_sections": [],
      "include_colab_link": true
    },
    "kernelspec": {
      "name": "python3",
      "display_name": "Python 3"
    },
    "accelerator": "GPU"
  },
  "cells": [
    {
      "cell_type": "markdown",
      "metadata": {
        "id": "view-in-github",
        "colab_type": "text"
      },
      "source": [
        "<a href=\"https://colab.research.google.com/github/Reagan1947/MathStudioTest/blob/master/keras_segmentation_python_example.ipynb\" target=\"_parent\"><img src=\"https://colab.research.google.com/assets/colab-badge.svg\" alt=\"Open In Colab\"/></a>"
      ]
    },
    {
      "cell_type": "markdown",
      "metadata": {
        "id": "TVVu2lXkcubl"
      },
      "source": [
        "### 安装这个包"
      ]
    },
    {
      "cell_type": "code",
      "metadata": {
        "id": "-eLWrn8CDjj4"
      },
      "source": [
        "! pip install git+https://github.com/divamgupta/image-segmentation-keras\n"
      ],
      "execution_count": null,
      "outputs": []
    },
    {
      "cell_type": "markdown",
      "metadata": {
        "id": "T-ZXJVRmc3BA"
      },
      "source": [
        "### 下载数据集"
      ]
    },
    {
      "cell_type": "code",
      "metadata": {
        "id": "5M_dfglnD2O4"
      },
      "source": [
        "! wget https://github.com/divamgupta/datasets/releases/download/seg/dataset1.zip && unzip dataset1.zip"
      ],
      "execution_count": null,
      "outputs": []
    },
    {
      "cell_type": "markdown",
      "metadata": {
        "id": "JpVgw4szckFI"
      },
      "source": [
        "\r\n",
        "\r\n",
        "```\r\n",
        "# 此内容为代码格式\r\n",
        "```\r\n",
        "\r\n",
        "### 初始化模型"
      ]
    },
    {
      "cell_type": "code",
      "metadata": {
        "id": "-l3Lzy5nDqCw",
        "colab": {
          "base_uri": "https://localhost:8080/"
        },
        "outputId": "44808c8f-3110-43e1-e55c-f6acc2b959d6"
      },
      "source": [
        "from keras_segmentation.models.unet import vgg_unet\n",
        "\n",
        "model = vgg_unet(n_classes=50 ,  input_height=320, input_width=640  )\n"
      ],
      "execution_count": 5,
      "outputs": [
        {
          "output_type": "stream",
          "text": [
            "Downloading data from https://github.com/fchollet/deep-learning-models/releases/download/v0.1/vgg16_weights_tf_dim_ordering_tf_kernels_notop.h5\n",
            "58892288/58889256 [==============================] - 2s 0us/step\n"
          ],
          "name": "stdout"
        }
      ]
    },
    {
      "cell_type": "markdown",
      "metadata": {
        "id": "qGd_TDGKcdL7"
      },
      "source": [
        "### 训练模型"
      ]
    },
    {
      "cell_type": "code",
      "metadata": {
        "id": "jXKtRFd9EC0K",
        "colab": {
          "base_uri": "https://localhost:8080/"
        },
        "outputId": "b241356e-bc41-4359-c43d-1a7958998fab"
      },
      "source": [
        "model.train(\n",
        "    train_images =  \"dataset1/images_prepped_train/\",\n",
        "    train_annotations = \"dataset1/annotations_prepped_train/\",\n",
        "    checkpoints_path = \"/tmp/vgg_unet_1\" , epochs=5   # 保存的模型地址\n",
        ")"
      ],
      "execution_count": 6,
      "outputs": [
        {
          "output_type": "stream",
          "text": [
            "  4%|▍         | 15/367 [00:00<00:02, 149.63it/s]"
          ],
          "name": "stderr"
        },
        {
          "output_type": "stream",
          "text": [
            "Verifying training dataset\n"
          ],
          "name": "stdout"
        },
        {
          "output_type": "stream",
          "text": [
            "100%|██████████| 367/367 [00:02<00:00, 177.83it/s]\n",
            "/usr/local/lib/python3.6/dist-packages/tensorflow/python/keras/engine/training.py:1844: UserWarning: `Model.fit_generator` is deprecated and will be removed in a future version. Please use `Model.fit`, which supports generators.\n",
            "  warnings.warn('`Model.fit_generator` is deprecated and '\n"
          ],
          "name": "stderr"
        },
        {
          "output_type": "stream",
          "text": [
            "Dataset verified! \n",
            "Epoch 1/5\n",
            "  6/512 [..............................] - ETA: 1:31 - loss: 3.9302 - accuracy: 0.1466WARNING:tensorflow:Callback method `on_train_batch_end` is slow compared to the batch time (batch time: 0.0679s vs `on_train_batch_end` time: 0.0942s). Check your callbacks.\n",
            "512/512 [==============================] - 108s 191ms/step - loss: 1.2248 - accuracy: 0.6805\n",
            "saved  /tmp/vgg_unet_1.0\n",
            "Epoch 2/5\n",
            "512/512 [==============================] - 100s 196ms/step - loss: 0.5352 - accuracy: 0.8338\n",
            "saved  /tmp/vgg_unet_1.1\n",
            "Epoch 3/5\n",
            "512/512 [==============================] - 100s 196ms/step - loss: 0.4239 - accuracy: 0.8665\n",
            "saved  /tmp/vgg_unet_1.2\n",
            "Epoch 4/5\n",
            "512/512 [==============================] - 100s 195ms/step - loss: 0.3406 - accuracy: 0.8911\n",
            "saved  /tmp/vgg_unet_1.3\n",
            "Epoch 5/5\n",
            "512/512 [==============================] - 100s 195ms/step - loss: 0.2947 - accuracy: 0.9037\n",
            "saved  /tmp/vgg_unet_1.4\n"
          ],
          "name": "stdout"
        }
      ]
    },
    {
      "cell_type": "markdown",
      "metadata": {
        "id": "Nwk5RTq1kvn8"
      },
      "source": [
        "### 预测单个图片"
      ]
    },
    {
      "cell_type": "code",
      "metadata": {
        "id": "U0muKcNEDy6N"
      },
      "source": [
        "out = model.predict_segmentation(\n",
        "    inp=\"dataset1/images_prepped_test/0016E5_07965.png\", # 图片地址\n",
        "    out_fname=\"/tmp/out.png\"\n",
        ")"
      ],
      "execution_count": null,
      "outputs": []
    },
    {
      "cell_type": "code",
      "metadata": {
        "id": "YL7HNTemD9XX"
      },
      "source": [
        "%matplotlib inline\n",
        "\n",
        "import matplotlib\n",
        "import matplotlib.pyplot as plt"
      ],
      "execution_count": null,
      "outputs": []
    },
    {
      "cell_type": "code",
      "metadata": {
        "id": "3hMQoxD_EAF3"
      },
      "source": [
        "plt.imshow(out, aspect='auto') #绘图\r\n",
        "plt.colorbar() # 显示颜色标尺\r\n",
        "plt.show()"
      ],
      "execution_count": null,
      "outputs": []
    },
    {
      "cell_type": "markdown",
      "metadata": {
        "id": "ctHgaUGBlHn_"
      },
      "source": [
        "### 预测一组图片"
      ]
    },
    {
      "cell_type": "code",
      "metadata": {
        "id": "Q4HN9Z2VlLAR"
      },
      "source": [
        "# predict batch image\r\n",
        "from keras_segmentation.predict import predict_multiple\r\n",
        "\r\n",
        "\r\n",
        "predict_multiple( \r\n",
        "\tcheckpoints_path=\"/tmp/vgg_unet_1\", # 模型保存地址 与模型训练保存的模型地址相对应\r\n",
        "\tinp_dir=\"CPD/image/\",  # 图片文件夹地址\r\n",
        "\tout_dir=\"outputs/\" \r\n",
        ")"
      ],
      "execution_count": null,
      "outputs": []
    },
    {
      "cell_type": "code",
      "metadata": {
        "id": "ZzB-w8EdEBLf"
      },
      "source": [
        "from IPython.display import Image\n",
        "Image('/tmp/out.png')"
      ],
      "execution_count": null,
      "outputs": []
    },
    {
      "cell_type": "code",
      "metadata": {
        "id": "Jb4E4AqdOX4N"
      },
      "source": [
        "o = model.predict_segmentation(\n",
        "    inp=\"dataset1/images_prepped_test/0016E5_07965.png\",\n",
        "    out_fname=\"/tmp/out.png\" , overlay_img=True, show_legends=True,\n",
        "    class_names = [ \"Sky\",    \"Building\", \"Pole\",\"Road\",\"Pavement\",\"Tree\",\"SignSymbol\", \"Fence\", \"Car\",\"Pedestrian\", \"Bicyclist\"]\n",
        "\n",
        ")"
      ],
      "execution_count": null,
      "outputs": []
    },
    {
      "cell_type": "markdown",
      "metadata": {
        "id": "xkl0SiP6lqDK"
      },
      "source": [
        "### 其他"
      ]
    },
    {
      "cell_type": "code",
      "metadata": {
        "id": "p097LwAST1v9"
      },
      "source": [
        "from IPython.display import Image\n",
        "Image('/tmp/out.png')"
      ],
      "execution_count": null,
      "outputs": []
    },
    {
      "cell_type": "code",
      "metadata": {
        "id": "RzOdzd1MVhjh"
      },
      "source": [
        "# Fine-tune\r\n",
        "# How to fine-tune class=4 data?\r\n",
        "from keras_segmentation.models.model_utils import transfer_weights\r\n",
        "from keras_segmentation.pretrained import pspnet_50_ADE_20K\r\n",
        "from keras_segmentation.models.pspnet import pspnet_50\r\n",
        "\r\n",
        "pretrained_model = pspnet_50_ADE_20K()\r\n",
        "\r\n",
        "new_model = pspnet_50( n_classes=51 )\r\n",
        "\r\n",
        "transfer_weights( pretrained_model , new_model  ) # transfer weights from pre-trained model to your model\r\n",
        "\r\n",
        "new_model.train(\r\n",
        "    train_images =  \"CPD/image/\",\r\n",
        "    train_annotations = \"CPD/label/\",\r\n",
        "    checkpoints_path = \"/tmp/vgg_unet_2/vgg_unet_2\" , epochs=1\r\n",
        ")"
      ],
      "execution_count": null,
      "outputs": []
    },
    {
      "cell_type": "code",
      "metadata": {
        "id": "eknsqSSYS7Lx",
        "outputId": "f6cddadd-475b-4782-d1b3-dedd80071245",
        "colab": {
          "base_uri": "https://localhost:8080/"
        }
      },
      "source": [
        "! python -m keras_segmentation verify_dataset \\\r\n",
        " --images_path=\"CPD/image/\" \\\r\n",
        " --segs_path=\"CPD/label/\"  \\\r\n",
        " --n_classes=4"
      ],
      "execution_count": 71,
      "outputs": [
        {
          "output_type": "stream",
          "text": [
            "2021-01-04 07:49:18.644828: I tensorflow/stream_executor/platform/default/dso_loader.cc:49] Successfully opened dynamic library libcudart.so.10.1\n",
            "100% 10/10 [00:00<00:00, 664.88it/s]\n",
            "Dataset verified! \n"
          ],
          "name": "stdout"
        }
      ]
    },
    {
      "cell_type": "code",
      "metadata": {
        "id": "8bTL16x2XvNq",
        "outputId": "fa3d94e7-60f7-4f69-bfd4-c74ec8329f62",
        "colab": {
          "base_uri": "https://localhost:8080/"
        }
      },
      "source": [
        "! python -m keras_segmentation visualize_dataset \\\r\n",
        " --images_path=\"CPD/image/\" \\\r\n",
        " --segs_path=\"CPD/label/\"  \\\r\n",
        " --n_classes=4"
      ],
      "execution_count": 80,
      "outputs": [
        {
          "output_type": "stream",
          "text": [
            "2021-01-04 07:57:58.971413: I tensorflow/stream_executor/platform/default/dso_loader.cc:49] Successfully opened dynamic library libcudart.so.10.1\n",
            "Please press any key to display the next image\n",
            "Found the following classes in the segmentation image: [  0 128]\n",
            "Please press any key to display the next image\n",
            ": cannot connect to X server \n"
          ],
          "name": "stdout"
        }
      ]
    }
  ]
}